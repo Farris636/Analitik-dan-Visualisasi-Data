{
  "nbformat": 4,
  "nbformat_minor": 0,
  "metadata": {
    "colab": {
      "provenance": []
    },
    "kernelspec": {
      "name": "python3",
      "display_name": "Python 3"
    },
    "language_info": {
      "name": "python"
    }
  },
  "cells": [
    {
      "cell_type": "markdown",
      "source": [
        "# **BUSINESS UNDERSTANDING**"
      ],
      "metadata": {
        "id": "pdLr-UQpnGqj"
      }
    },
    {
      "cell_type": "markdown",
      "source": [
        "#**Business Objektive**\n",
        "\n"
      ],
      "metadata": {
        "id": "zWTys46QnGxN"
      }
    },
    {
      "cell_type": "markdown",
      "source": [
        "Tujuan utama dari analisis ini adalah untuk mengidentifikasi faktor-faktor yang mempengaruhi risiko depresi pada mahasiswa dan membantu institusi pendidikan dalam mengambil langkah pencegahan yang tepat. Dengan memahami bagaimana tekanan akademik, stres finansial, jam belajar, pola tidur, dan kebiasaan makan berkontribusi terhadap kesehatan mental, universitas dapat merancang program dukungan seperti konseling, manajemen stres, dan kebijakan akademik yang lebih ramah. Selain itu, data ini dapat digunakan untuk memprediksi mahasiswa yang berisiko mengalami depresi sehingga intervensi dapat dilakukan lebih dini. Dengan pendekatan berbasis data, diharapkan lingkungan akademik menjadi lebih sehat dan mendukung kesejahteraan mahasiswa."
      ],
      "metadata": {
        "id": "7ZZiDvG5vQ7V"
      }
    },
    {
      "cell_type": "markdown",
      "source": [
        "#**Assess Situation**"
      ],
      "metadata": {
        "id": "Y8DmgSowvS7K"
      }
    },
    {
      "cell_type": "markdown",
      "source": [
        "Berdasarkan data yang tersedia, terdapat berbagai faktor yang dapat mempengaruhi kesehatan mental mahasiswa, seperti tekanan akademik, stres keuangan, jam belajar, pola tidur, dan kebiasaan makan. Dari 27.901 data mahasiswa, terlihat bahwa sebagian mengalami tekanan akademik yang tinggi, kurang tidur, serta stres finansial yang dapat berdampak pada kondisi mental mereka. Beberapa mahasiswa juga melaporkan pernah memiliki pikiran untuk bunuh diri, yang menunjukkan perlunya perhatian lebih terhadap kesehatan mental mereka. Selain itu, faktor seperti kepuasan belajar dan pekerjaan, serta riwayat kesehatan mental dalam keluarga, juga dapat berkontribusi terhadap risiko depresi. Dengan kondisi ini, penting bagi institusi pendidikan dan pihak terkait untuk mengidentifikasi mahasiswa yang berisiko serta menyediakan solusi yang efektif, seperti layanan konseling, kebijakan akademik yang lebih fleksibel, dan edukasi tentang manajemen stres."
      ],
      "metadata": {
        "id": "Fenx4PBsv3sF"
      }
    },
    {
      "cell_type": "markdown",
      "source": [
        "#**Data MIning Goals**"
      ],
      "metadata": {
        "id": "E_ghjSllv_Bt"
      }
    },
    {
      "cell_type": "markdown",
      "source": [
        "Tujuan utama data mining ini adalah untuk memprediksi risiko depresi pada mahasiswa dengan mengembangkan model machine learning yang dapat mengidentifikasi faktor utama penyebabnya, seperti tekanan akademik, stres keuangan, pola tidur, dan riwayat kesehatan mental keluarga. Dengan analisis ini, institusi pendidikan dapat meningkatkan kesadaran dan melakukan intervensi dini terhadap mahasiswa yang berisiko, serta menyediakan rekomendasi kebijakan yang mendukung kesejahteraan mereka, seperti manajemen stres akademik, dukungan finansial, dan promosi gaya hidup sehat. Selain itu, hasil dari data mining ini dapat digunakan untuk membangun sistem monitoring kesehatan mental berbasis data, seperti dashboard analitik, yang membantu universitas dalam mendeteksi dan menangani kasus depresi secara lebih efektif dan berkelanjutan."
      ],
      "metadata": {
        "id": "1QDoNBM2wX1u"
      }
    },
    {
      "cell_type": "markdown",
      "source": [
        "#**Project Plan**"
      ],
      "metadata": {
        "id": "-rhIq74dwd45"
      }
    },
    {
      "cell_type": "markdown",
      "source": [
        "Proyek ini akan dimulai dengan tahap inisiasi dan perencanaan pada minggu pertama, di mana tujuan dan ruang lingkup proyek ditetapkan serta pemahaman awal terhadap dataset dilakukan. Pada minggu kedua hingga ketiga, data akan dieksplorasi dan dipersiapkan, termasuk pembersihan, penanganan nilai yang hilang, konversi variabel kategorikal, serta normalisasi data. Selanjutnya, pada minggu keempat hingga kelima, dilakukan analisis data dan visualisasi untuk mengidentifikasi faktor utama yang mempengaruhi depresi mahasiswa. Pada minggu keenam hingga ketujuh, model prediksi akan dikembangkan menggunakan algoritma machine learning seperti Logistic Regression dan Random Forest, kemudian dievaluasi menggunakan metrik seperti accuracy, precision, recall, dan AUC-ROC. Setelah model terbaik dipilih, tahap implementasi dan pengujian akan dilakukan pada minggu kedelapan hingga kesembilan untuk memastikan keakuratan dan efektivitas model. Pada minggu kesepuluh hingga kedua belas, proyek akan memasuki tahap deployment dan dokumentasi, di mana hasil analisis akan dipresentasikan melalui dashboard atau laporan analitik, serta rekomendasi strategis diberikan kepada stakeholder seperti institusi pendidikan untuk membantu dalam pencegahan dan penanganan depresi pada mahasiswa."
      ],
      "metadata": {
        "id": "GcffwATZxJOA"
      }
    }
  ]
}